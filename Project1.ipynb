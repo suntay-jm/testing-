{
  "nbformat": 4,
  "nbformat_minor": 0,
  "metadata": {
    "colab": {
      "name": "Project1.ipynb",
      "provenance": [],
      "collapsed_sections": [],
      "include_colab_link": true
    },
    "kernelspec": {
      "name": "python3",
      "display_name": "Python 3"
    },
    "language_info": {
      "name": "python"
    }
  },
  "cells": [
    {
      "cell_type": "markdown",
      "metadata": {
        "id": "view-in-github",
        "colab_type": "text"
      },
      "source": [
        "<a href=\"https://colab.research.google.com/github/suntay-jm/testing-/blob/main/Project1.ipynb\" target=\"_parent\"><img src=\"https://colab.research.google.com/assets/colab-badge.svg\" alt=\"Open In Colab\"/></a>"
      ]
    },
    {
      "cell_type": "markdown",
      "metadata": {
        "id": "87PXM0wcQWVG"
      },
      "source": [
        "# Project 1: Gene Finding!\n",
        "\n",
        "## Remember to save a copy to drive!\n",
        "\n",
        "### This template will show you how to download the files. The rest is up to you: read the project description carefully, plan out your project before you start coding, start your work early, and ask many questions!"
      ]
    },
    {
      "cell_type": "code",
      "metadata": {
        "id": "3IeaPy-_QQ-Z",
        "colab": {
          "base_uri": "https://localhost:8080/"
        },
        "outputId": "721ef350-f803-4490-d363-15b7c3b4aef4"
      },
      "source": [
        "# downloads the salmonella DNA (X73525.fasta)\n",
        "!wget https://raw.githubusercontent.com/mjohnson11/CSC306/main/X73525.fasta\n",
        "# downloads the mystery DNA \n",
        "!wget https://raw.githubusercontent.com/mjohnson11/CSC306/main/mystery.fasta"
      ],
      "execution_count": null,
      "outputs": [
        {
          "output_type": "stream",
          "name": "stdout",
          "text": [
            "--2022-06-02 03:02:43--  https://raw.githubusercontent.com/mjohnson11/CSC306/main/X73525.fasta\n",
            "Resolving raw.githubusercontent.com (raw.githubusercontent.com)... 185.199.111.133, 185.199.109.133, 185.199.108.133, ...\n",
            "Connecting to raw.githubusercontent.com (raw.githubusercontent.com)|185.199.111.133|:443... connected.\n",
            "HTTP request sent, awaiting response... 200 OK\n",
            "Length: 6547 (6.4K) [text/plain]\n",
            "Saving to: ‘X73525.fasta’\n",
            "\n",
            "X73525.fasta        100%[===================>]   6.39K  --.-KB/s    in 0s      \n",
            "\n",
            "2022-06-02 03:02:44 (58.4 MB/s) - ‘X73525.fasta’ saved [6547/6547]\n",
            "\n",
            "--2022-06-02 03:02:44--  https://raw.githubusercontent.com/mjohnson11/CSC306/main/mystery.fasta\n",
            "Resolving raw.githubusercontent.com (raw.githubusercontent.com)... 185.199.108.133, 185.199.109.133, 185.199.110.133, ...\n",
            "Connecting to raw.githubusercontent.com (raw.githubusercontent.com)|185.199.108.133|:443... connected.\n",
            "HTTP request sent, awaiting response... 200 OK\n",
            "Length: 3872 (3.8K) [text/plain]\n",
            "Saving to: ‘mystery.fasta’\n",
            "\n",
            "mystery.fasta       100%[===================>]   3.78K  --.-KB/s    in 0s      \n",
            "\n",
            "2022-06-02 03:02:44 (62.1 MB/s) - ‘mystery.fasta’ saved [3872/3872]\n",
            "\n"
          ]
        }
      ]
    },
    {
      "cell_type": "code",
      "metadata": {
        "id": "N__CvUVUTfor"
      },
      "source": [
        "def fasta_reader(fname): \n",
        "    '''open the fasta file and separate the title from the sequence and then store the sequence into a variable''' \n",
        "    f = open(fname, 'r')\n",
        "    DNA_string = ''\n",
        "    for line in f:\n",
        "        if line[0] == '>': #this will remove the title from the rest of the sequence \n",
        "            print('fasta file title line: ', line)\n",
        "        else:\n",
        "            DNA_string += line.strip()\n",
        "    f.close()\n",
        "    return DNA_string "
      ],
      "execution_count": null,
      "outputs": []
    },
    {
      "cell_type": "code",
      "metadata": {
        "id": "amyIGJNl84SR"
      },
      "source": [
        "aa_dict = {\n",
        "'AAA': 'K',\n",
        "'AAC': 'N', 'AAG': 'K', 'AAT': 'N', 'ACA': 'T', 'ACC': 'T', 'ACG': 'T', 'ACT': 'T',\n",
        "'AGA': 'R', 'AGC': 'S', 'AGG': 'R', 'AGT': 'S', 'ATA': 'I', 'ATC': 'I', 'ATG': 'M', \n",
        "'ATT': 'L', 'CAA': 'Q', 'CAC': 'H', 'CAG': 'Q', 'CAT': 'H', 'CCA': 'P', 'CCC': 'P', \n",
        "'CCG': 'P', 'CCT': 'P', 'CGA': 'R', 'CGC': 'R', 'CGG': 'R', 'CGT': 'R', 'CTA': 'C', \n",
        "'CTC': 'L', 'CTG': 'L', 'CTT': 'L', 'GAA': 'E', 'GAC': 'D', 'GAG': 'E', 'GAT': 'D', \n",
        "'GCA': 'D', 'GCC': 'A', 'GCG': 'F', 'GCT': 'A', 'GGA': 'G', 'GGC': 'G', 'GGG': 'G',\n",
        "'GGT': 'G', 'GTA': 'V', 'GTC': 'V', 'GTG': 'V', 'GTT': 'V', 'TAA': '*', 'TAC': 'Y', \n",
        "'TAG': '*', 'TAT': 'Y', 'TCA': 'S', 'TCC': 'S', 'TCG': 'S', 'TCT': 'S', 'TGA': '*', \n",
        "'TGC': 'C', 'TGG': 'L', 'TGT': 'C', 'TTA': 'L', 'TTC': 'F','TTG': 'L', \n",
        "'TTT': 'F'  \n",
        "}\n",
        "\n",
        "def DNA_makes_protein(dna_string): \n",
        "  '''takes a DNA string and outputs the translated amino acid sequence'''\n",
        "  output_aminoacidstring=''\n",
        "  for i in range(len(dna_string)//3):  # loop through the indices from 0 to 1/3 the string length\n",
        "      codon = dna_string[i*3:i*3+3]    # get a codon at codon position i\n",
        "      output_aminoacidstring += aa_dict[codon]\n",
        "  return output_aminoacidstring"
      ],
      "execution_count": null,
      "outputs": []
    },
    {
      "cell_type": "code",
      "metadata": {
        "id": "59-YSJ2-_s09"
      },
      "source": [
        "  def comp_base(base):\n",
        "      '''writes the complement of each base'''\n",
        "      if base == \"A\":\n",
        "        return 'T'\n",
        "      elif base == \"G\":\n",
        "        return 'C'\n",
        "      elif base == \"C\":\n",
        "        return 'G'\n",
        "      elif base == \"T\":\n",
        "        return 'A'\n",
        "\n",
        "  def rev_comp(DNA_string):\n",
        "    '''reverses the string while writing the complement of each base'''\n",
        "    reverse = DNA_string[::-1]\n",
        "    complement = ''\n",
        "    for index in range(len(reverse)):\n",
        "      rc = comp_base(reverse[index]) #rc = rewrite complement\n",
        "      complement += rc\n",
        "    return complement"
      ],
      "execution_count": null,
      "outputs": []
    },
    {
      "cell_type": "code",
      "metadata": {
        "id": "K-8wE4a4tj1F"
      },
      "source": [
        "def fasta_writer(gene_list, output_filename): \n",
        "    '''given a list of genes and an output_filename, output those genes to a fasta file'''\n",
        "    f = open(output_filename, 'w')\n",
        "    gene_counter = 1\n",
        "    for gene in gene_list:\n",
        "        f.write('>gene_'+str(gene_counter)+'\\n')\n",
        "        for i in range(len(gene)//80+1): # writes 80 characters per line\n",
        "            f.write(gene[i*80:i*80+80] + '\\n')\n",
        "        gene_counter += 1\n",
        "    f.close()"
      ],
      "execution_count": null,
      "outputs": []
    },
    {
      "cell_type": "code",
      "metadata": {
        "colab": {
          "base_uri": "https://localhost:8080/"
        },
        "id": "oBz1DytxYHDD",
        "outputId": "4a83d873-8a07-4035-ec23-dac6693aad45"
      },
      "source": [
        "def rest_of_ORF(possible_ORF): \n",
        "    '''takes the output of ORF_finder and scans ahead for a stop codon. then it will check for proper ORF length (multiple of 3)'''\n",
        "    for base in range(len(possible_ORF)):\n",
        "        if possible_ORF[base:base + 3] == \"TAA\" or possible_ORF[base:base + 3] == \"TGA\" or possible_ORF[base:base + 3] == \"TAG\":\n",
        "            if len(possible_ORF[:base]) % 3 == 0: #this checks if the ORF found has a length divisible by 3 \n",
        "                return possible_ORF[:base+3]\n",
        "\n",
        "def already_found_orf(orf_list, new_orf):\n",
        "    '''checks to see if found ORF is already in list of ORFs'''\n",
        "    for orf in orf_list:\n",
        "        if new_orf in orf:\n",
        "            return True #if the ORF is already in the list, then return True \n",
        "    return False #if the ORF is NOT in the list, then return False''' \n",
        "\n",
        "def ORF_finder(DNA_string):\n",
        "    '''finds a start codon (ATG) then slices the string at that index and then sends to rest_of_ORF to find a stop codon.''' \n",
        "    ORF_list = []\n",
        "    possible_ORF = \"\"\n",
        "    for base in range(len(DNA_string)):\n",
        "        if DNA_string[base:base+3] == \"ATG\":\n",
        "            possible_ORF = DNA_string[base:]\n",
        "            if rest_of_ORF(possible_ORF) != None: #makes sure that repeat_check does not accept None from already_found_ORF\n",
        "              repeat_check = rest_of_ORF(possible_ORF)\n",
        "              if not already_found_orf(ORF_list, repeat_check): #checks for repeated ORFs in list by 'not adding already found ORFs to the list' \n",
        "                if len(repeat_check) >= 480 : #sets base pair cutoff at 480 bp\n",
        "                  ORF_list.append(repeat_check)\n",
        "    return ORF_list #returns ORF_list after appending the ORF to the list (after it passes repeat_check)\n",
        "\n",
        "\n",
        "\n",
        "def rORF_finder(DNA_String):\n",
        "  '''reverses the DNA_string and outputs its complement'''\n",
        "  rDNA = ORF_finder(rev_comp(DNA_String)) #finds ORFs for reverse complement\n",
        "  return rDNA\n",
        "  \n",
        " \n",
        "\n",
        "def PG_finder(DNA_string):\n",
        "  '''take all ORFs and translate it to putative genes'''\n",
        "  putative_genes = ORF_finder(DNA_string) #list of all of ORFs\n",
        "  rputative_genes = rORF_finder(DNA_string) #list of all of ORFs on the reverse complement \n",
        "  cputative_genes = putative_genes + rputative_genes #adding the foward and reverse directions\n",
        "  translated =[]\n",
        "  for orf in cputative_genes:\n",
        "    translated.append(DNA_makes_protein(orf)) #translates the genes and adds it to the list\n",
        "  return translated\n",
        "\n",
        "\n",
        "def to_blastp(fasta):\n",
        "  '''puts everything in one function and exports as a fasta file named blastname'''\n",
        "  blasting = PG_finder(fasta_reader(fasta)) #finds all putative genes in the given fasta file\n",
        "  fasta_writer(blasting, 'blastp'+ fasta) #exports all putative genes into a file called 'blast(fasta file name)\n",
        "  return \n",
        "\n",
        "to_blastp('X73525.fasta')\n",
        "to_blastp('mystery.fasta')\n",
        "\n"
      ],
      "execution_count": null,
      "outputs": [
        {
          "output_type": "stream",
          "name": "stdout",
          "text": [
            "fasta file title line:  >X73525.1 S.typhimurium genes for surface presentation of antigens\n",
            "\n",
            "fasta file title line:  >mystery...\n",
            "\n"
          ]
        }
      ]
    }
  ]
}